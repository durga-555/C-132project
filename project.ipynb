{
  "nbformat": 4,
  "nbformat_minor": 0,
  "metadata": {
    "colab": {
      "name": "project.ipynb",
      "provenance": [],
      "collapsed_sections": [],
      "authorship_tag": "ABX9TyNsp8UrPCX8ZUc8HCl7m1nh",
      "include_colab_link": true
    },
    "kernelspec": {
      "name": "python3",
      "display_name": "Python 3"
    },
    "language_info": {
      "name": "python"
    }
  },
  "cells": [
    {
      "cell_type": "markdown",
      "metadata": {
        "id": "view-in-github",
        "colab_type": "text"
      },
      "source": [
        "<a href=\"https://colab.research.google.com/github/durga-555/C-132project/blob/main/project.ipynb\" target=\"_parent\"><img src=\"https://colab.research.google.com/assets/colab-badge.svg\" alt=\"Open In Colab\"/></a>"
      ]
    },
    {
      "cell_type": "markdown",
      "source": [
        "# **C-131**"
      ],
      "metadata": {
        "id": "VrFgD87eq_sc"
      }
    },
    {
      "cell_type": "code",
      "execution_count": null,
      "metadata": {
        "id": "DHH221_Yoms1"
      },
      "outputs": [],
      "source": [
        "import csv\n",
        "import pandas as pd"
      ]
    },
    {
      "cell_type": "code",
      "source": [
        "rows = []\n",
        "\n",
        "with open('final.csv', 'r') as f:\n",
        "    csv_r = csv.reader(f)\n",
        "    for i in csv_r:\n",
        "        rows.append(i)"
      ],
      "metadata": {
        "id": "MmzaI-puovSM"
      },
      "execution_count": null,
      "outputs": []
    },
    {
      "cell_type": "code",
      "source": [
        "headers = rows[0]\n",
        "stars_data = rows[1:]\n",
        "headers[0] = 'Index'"
      ],
      "metadata": {
        "id": "xj9whYJdp3jz"
      },
      "execution_count": null,
      "outputs": []
    },
    {
      "cell_type": "code",
      "source": [
        "stars_data = []\n",
        "\n",
        "for star in stars_data:\n",
        "    if star[3] != '?': \n",
        "        star[3] = float(star[3].strip(\"\\'\"))*1.989e+30\n",
        "    \n",
        "    if star[4] != '?':\n",
        "        star[4] = float(star[4].strip(\"\\'\"))*6.957e+8\n",
        "    stars_data.append(star)"
      ],
      "metadata": {
        "id": "ygZ-wF36o9u8"
      },
      "execution_count": null,
      "outputs": []
    },
    {
      "cell_type": "code",
      "source": [
        "star_data_gravity = []\n",
        "\n",
        "for star in stars_data:\n",
        "    if star[3] != '?' and star[4] != '?':\n",
        "        gravity = (6.674e-11 * float(star[3]))/(float(star[4])*float(star[4]))\n",
        "    star.append(gravity)\n",
        "    star_data_gravity.append(star)"
      ],
      "metadata": {
        "id": "gsDGETt3pFZ0"
      },
      "execution_count": null,
      "outputs": []
    },
    {
      "cell_type": "code",
      "source": [
        "name = []\n",
        "distance = []\n",
        "mass = []\n",
        "radius = []\n",
        "gravity = []\n",
        "\n",
        "for i in star_data_gravity:\n",
        "    name.append(i[1])\n",
        "    distance.append(i[2])\n",
        "    mass.append(i[3])\n",
        "    radius.append(i[4])\n",
        "    gravity.append(i[5])\n",
        "\n",
        "df = pd.DataFrame(\n",
        "    list(zip(name, distance, mass, radius, gravity)),\n",
        "    columns=[\"Star Name\", \"Distance\", \"Mass\", \"Radius\", \"Gravity\"],\n",
        ")\n",
        "\n",
        "df.to_csv('final.csv')"
      ],
      "metadata": {
        "id": "elibOCg-pOK1"
      },
      "execution_count": null,
      "outputs": []
    },
    {
      "cell_type": "markdown",
      "source": [
        "# **C-132**"
      ],
      "metadata": {
        "id": "4BYfx_4ArGhT"
      }
    },
    {
      "cell_type": "code",
      "source": [
        "import pandas as pd\n",
        "import matplotlib.pyplot as plt\n",
        "\n",
        "df = pd.read_csv(\"final.csv\")"
      ],
      "metadata": {
        "id": "0CTj2K-WrQbz"
      },
      "execution_count": 19,
      "outputs": []
    },
    {
      "cell_type": "code",
      "source": [
        "X = []\n",
        "\n",
        "mass = df[\"Mass\"].to_list()\n",
        "radius = df[\"Radius\"].to_list()\n",
        "dist = df[\"Distance\"].to_list()\n",
        "gravity = df[\"Gravity\"].to_list()\n",
        "\n",
        "mass.sort()\n",
        "radius.sort()\n",
        "gravity.sort()"
      ],
      "metadata": {
        "id": "srmKAxycuQiC"
      },
      "execution_count": 20,
      "outputs": []
    },
    {
      "cell_type": "code",
      "source": [
        "plt.plot(radius,mass)\n",
        "plt.title(\"Radius & Mass of the Star\")\n",
        "plt.xlabel(\"Radius\")\n",
        "plt.ylabel(\"Mass\")\n",
        "plt.show()"
      ],
      "metadata": {
        "colab": {
          "base_uri": "https://localhost:8080/",
          "height": 295
        },
        "id": "M65ExovUuXZp",
        "outputId": "b5e9bb34-352e-4633-df3a-ba5a535d8760"
      },
      "execution_count": 23,
      "outputs": [
        {
          "output_type": "display_data",
          "data": {
            "image/png": "[encoded data removed]",
            "text/plain": [
              "<Figure size 432x288 with 1 Axes>"
            ]
          },
          "metadata": {
            "needs_background": "light"
          }
        }
      ]
    },
    {
      "cell_type": "code",
      "source": [
        "plt.plot(mass,gravity)\n",
        "plt.title(\"Mass vs Gravity\")\n",
        "plt.xlabel(\"Mass\")\n",
        "plt.ylabel(\"Gravity\")\n",
        "plt.show()"
      ],
      "metadata": {
        "colab": {
          "base_uri": "https://localhost:8080/",
          "height": 295
        },
        "id": "m4ZRNDUvudqL",
        "outputId": "ddf80f02-09c0-4c86-aab7-4c7702ef15a6"
      },
      "execution_count": 22,
      "outputs": [
        {
          "output_type": "display_data",
          "data": {
            "image/png": "[encoded data removed]",
            "text/plain": [
              "<Figure size 432x288 with 1 Axes>"
            ]
          },
          "metadata": {
            "needs_background": "light"
          }
        }
      ]
    }
  ]
}